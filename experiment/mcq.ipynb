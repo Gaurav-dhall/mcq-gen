{
 "cells": [
  {
   "cell_type": "code",
   "execution_count": 4,
   "id": "51ad5ee4",
   "metadata": {},
   "outputs": [],
   "source": [
    "import os \n",
    "import json \n",
    "import pandas as pd \n",
    "import traceback"
   ]
  },
  {
   "cell_type": "code",
   "execution_count": 5,
   "id": "9aa50eca",
   "metadata": {},
   "outputs": [],
   "source": [
    "\n",
    "\n",
    "from langchain.prompts import PromptTemplate\n",
    "from langchain.chains import LLMChain\n",
    "from langchain.chains import SequentialChain\n",
    "import PyPDF2\n",
    "\n",
    "\n",
    "\n"
   ]
  },
  {
   "cell_type": "code",
   "execution_count": 6,
   "id": "6d204aee",
   "metadata": {},
   "outputs": [],
   "source": [
    "from transformers import pipeline\n",
    "from langchain.llms import HuggingFacePipeline"
   ]
  },
  {
   "cell_type": "code",
   "execution_count": 7,
   "id": "eff188f5",
   "metadata": {},
   "outputs": [],
   "source": [
    "hf_pipeline = pipeline(\"text-generation\", model=\"TinyLlama/TinyLlama-1.1B-Chat-v1.0\")\n",
    "llm = HuggingFacePipeline(pipeline=hf_pipeline)"
   ]
  },
  {
   "cell_type": "code",
   "execution_count": 17,
   "id": "93c11020",
   "metadata": {},
   "outputs": [],
   "source": [
    "Template=\"\"\"\n",
    "Text:{text}\n",
    "You are an expert mcq generator.Given the above text it is ur job to generate a quiz of {number} multiple choice questions for the {subject} students in {tone} tone. Make sure the questions are not repeated and check all the questions to be conforming the text as well. make sure to format the response like Response_JSON below to use it as a guide \n",
    "Ensure to make {number} mcq questions and not more than that.\n",
    "###Response_JSON\n",
    "{response_json}\n",
    "\"\"\""
   ]
  },
  {
   "cell_type": "code",
   "execution_count": 18,
   "id": "9256f350",
   "metadata": {},
   "outputs": [],
   "source": [
    "Response_JSON = {\n",
    "  \"questions\": [\n",
    "    {\n",
    "      \"question_number\": 1,\n",
    "      \"question\": \"Question 1 goes here.\",\n",
    "      \"options\": {\n",
    "        \"a\": \"Option 1\",\n",
    "        \"b\": \"Option 2\",\n",
    "        \"c\": \"Option 3\",\n",
    "        \"d\": \"Option 4\"\n",
    "      },\n",
    "      \"correct_answer\": \"correct answer goes here\"\n",
    "    },\n",
    "    {\n",
    "      \"question_number\": 2,\n",
    "      \"question\": \"Question 2 goes here.\",\n",
    "      \"options\": {\n",
    "        \"a\": \"Option 1\",\n",
    "        \"b\": \"Option 2\",\n",
    "        \"c\": \"Option 3\",\n",
    "        \"d\": \"Option 4\"\n",
    "      },\n",
    "      \"correct_answer\": \"correct answer goes here\"\n",
    "    },\n",
    "    {\n",
    "      \"question_number\": 3,\n",
    "      \"question\": \"Question 3 goes here.\",\n",
    "      \"options\": {\n",
    "        \"a\": \"Option 1\",\n",
    "        \"b\": \"Option 2\",\n",
    "        \"c\": \"Option 3\",\n",
    "        \"d\": \"Option 4\"\n",
    "      },\n",
    "      \"correct_answer\": \"correct answer goes here\"\n",
    "    },\n",
    "    {\n",
    "      \"question_number\": 4,\n",
    "      \"question\": \"Question 4 goes here.\",\n",
    "      \"options\": {\n",
    "        \"a\": \"Option 1\",\n",
    "        \"b\": \"Option 2\",\n",
    "        \"c\": \"Option 3\",\n",
    "        \"d\": \"Option 4\"\n",
    "      },\n",
    "      \"correct_answer\": \"correct answer goes here\"\n",
    "    },\n",
    "    {\n",
    "      \"question_number\": 5,\n",
    "      \"question\": \"Question 5 goes here.\",\n",
    "      \"options\": {\n",
    "        \"a\": \"Option 1\",\n",
    "        \"b\": \"Option 2\",\n",
    "        \"c\": \"Option 3\",\n",
    "        \"d\": \"Option 4\"\n",
    "      },\n",
    "      \"correct_answer\": \"correct answer goes here\"\n",
    "    }\n",
    "  ]\n",
    "}\n",
    "\n"
   ]
  },
  {
   "cell_type": "code",
   "execution_count": 19,
   "id": "05898af3",
   "metadata": {},
   "outputs": [],
   "source": [
    "quiz_generation_prompt=PromptTemplate(\n",
    "    input_variables=[\"text\",\"number\",\"tone\",\"subject\",\"response_json\"],\n",
    "    template=Template\n",
    ")"
   ]
  },
  {
   "cell_type": "code",
   "execution_count": 20,
   "id": "095444bf",
   "metadata": {},
   "outputs": [],
   "source": [
    "quiz_chain= LLMChain(\n",
    "    llm=llm,\n",
    "    prompt=quiz_generation_prompt,\n",
    "    output_key=\"quiz\",\n",
    "    verbose=True\n",
    "\n",
    ")"
   ]
  },
  {
   "cell_type": "code",
   "execution_count": 21,
   "id": "aff8e6a9",
   "metadata": {},
   "outputs": [],
   "source": [
    "Template2=\"\"\"\n",
    "    You are an expert english grammarian and writer Given A MCQ quiz for {subject} students.You need to evaluatethe complexity of the question and give a complete analysis of the quiz only use at max 50 words for complexity if the quiz is not as per the cognitive and analytical abilities of the students update the quiz questions which needs to be changed and change tone such that it perfectly fits the students abilities \n",
    "    QQuiz Mcqs:{quiz}\n",
    "\n",
    "    Check from an expert english writer of the above quiz :\n",
    "    \"\"\""
   ]
  },
  {
   "cell_type": "code",
   "execution_count": 22,
   "id": "d76a20c0",
   "metadata": {},
   "outputs": [],
   "source": [
    "quiz_evaluation_prompt=PromptTemplate(\n",
    "    input_variables=[\"quiz\",\"subject\"],\n",
    "    template=Template2\n",
    ")"
   ]
  },
  {
   "cell_type": "code",
   "execution_count": 23,
   "id": "a9770814",
   "metadata": {},
   "outputs": [],
   "source": [
    "review_chain=LLMChain(\n",
    "    llm=llm,\n",
    "    prompt=quiz_evaluation_prompt,\n",
    "    output_key=\"review\",\n",
    "    verbose=True\n",
    ")"
   ]
  },
  {
   "cell_type": "code",
   "execution_count": 24,
   "id": "41843120",
   "metadata": {},
   "outputs": [],
   "source": [
    "generate_evaluated_chain=SequentialChain(\n",
    "    chains=[quiz_chain,review_chain],\n",
    "    input_variables=[\"text\",\"number\",\"tone\",\"subject\",\"response_json\"],\n",
    "    output_variables=[\"quiz\",\"review\"],\n",
    "    verbose=True\n",
    ")"
   ]
  },
  {
   "cell_type": "code",
   "execution_count": 26,
   "id": "248b5968",
   "metadata": {},
   "outputs": [],
   "source": [
    "file_path=r\"C:\\Users\\gaura\\OneDrive\\programs\\mcq-gen\\data.txt\""
   ]
  },
  {
   "cell_type": "code",
   "execution_count": 27,
   "id": "4577ab2a",
   "metadata": {},
   "outputs": [
    {
     "data": {
      "text/plain": [
       "'C:\\\\Users\\\\gaura\\\\OneDrive\\\\programs\\\\mcq-gen\\\\data.txt'"
      ]
     },
     "execution_count": 27,
     "metadata": {},
     "output_type": "execute_result"
    }
   ],
   "source": [
    "file_path"
   ]
  },
  {
   "cell_type": "code",
   "execution_count": 28,
   "id": "36e90ee9",
   "metadata": {},
   "outputs": [],
   "source": [
    "with open(file_path, 'r') as file:\n",
    "    TEXT = file.read()"
   ]
  },
  {
   "cell_type": "code",
   "execution_count": 30,
   "id": "3639ceda",
   "metadata": {},
   "outputs": [
    {
     "name": "stdout",
     "output_type": "stream",
     "text": [
      "As a scientific endeavour, machine learning grew out of the quest for artificial intelligence (AI). In the early days of AI as an academic discipline, some researchers were interested in having machines learn from data. They attempted to approach the problem with various symbolic methods, as well as what were then termed \"neural networks\"; these were mostly perceptrons and other models that were later found to be reinventions of the generalised linear models of statistics.[20] Probabilistic reasoning was also employed, especially in automated medical diagnosis.[21]: 488 \n",
      "\n",
      "However, an increasing emphasis on the logical, knowledge-based approach caused a rift between AI and machine learning. Probabilistic systems were plagued by theoretical and practical problems of data acquisition and representation.[21]: 488  By 1980, expert systems had come to dominate AI, and statistics was out of favour.[22] Work on symbolic/knowledge-based learning did continue within AI, leading to inductive logic programming(ILP), but the more statistical line of research was now outside the field of AI proper, in pattern recognition and information retrieval.[21]: 708–710, 755  Neural networks research had been abandoned by AI and computer science around the same time. This line, too, was continued outside the AI/CS field, as \"connectionism\", by researchers from other disciplines including John Hopfield, David Rumelhart, and Geoffrey Hinton. Their main success came in the mid-1980s with the reinvention of backpropagation.[21]: 25 \n",
      "\n",
      "Machine learning (ML), reorganised and recognised as its own field, started to flourish in the 1990s. The field changed its goal from achieving artificial intelligence to tackling solvable problems of a practical nature. It shifted focus away from the symbolic approaches it had inherited from AI, and toward methods and models borrowed from statistics, fuzzy logic, and probability theory.[22]\n"
     ]
    }
   ],
   "source": [
    "print(TEXT)"
   ]
  },
  {
   "cell_type": "code",
   "execution_count": 31,
   "id": "cd065f47",
   "metadata": {},
   "outputs": [
    {
     "data": {
      "text/plain": [
       "'{\"questions\": [{\"question_number\": 1, \"question\": \"Question 1 goes here.\", \"options\": {\"a\": \"Option 1\", \"b\": \"Option 2\", \"c\": \"Option 3\", \"d\": \"Option 4\"}, \"correct_answer\": \"correct answer goes here\"}, {\"question_number\": 2, \"question\": \"Question 2 goes here.\", \"options\": {\"a\": \"Option 1\", \"b\": \"Option 2\", \"c\": \"Option 3\", \"d\": \"Option 4\"}, \"correct_answer\": \"correct answer goes here\"}, {\"question_number\": 3, \"question\": \"Question 3 goes here.\", \"options\": {\"a\": \"Option 1\", \"b\": \"Option 2\", \"c\": \"Option 3\", \"d\": \"Option 4\"}, \"correct_answer\": \"correct answer goes here\"}, {\"question_number\": 4, \"question\": \"Question 4 goes here.\", \"options\": {\"a\": \"Option 1\", \"b\": \"Option 2\", \"c\": \"Option 3\", \"d\": \"Option 4\"}, \"correct_answer\": \"correct answer goes here\"}, {\"question_number\": 5, \"question\": \"Question 5 goes here.\", \"options\": {\"a\": \"Option 1\", \"b\": \"Option 2\", \"c\": \"Option 3\", \"d\": \"Option 4\"}, \"correct_answer\": \"correct answer goes here\"}]}'"
      ]
     },
     "execution_count": 31,
     "metadata": {},
     "output_type": "execute_result"
    }
   ],
   "source": [
    "json.dumps(Response_JSON)"
   ]
  },
  {
   "cell_type": "code",
   "execution_count": 33,
   "id": "9ae29139",
   "metadata": {},
   "outputs": [
    {
     "name": "stderr",
     "output_type": "stream",
     "text": [
      "Error in StdOutCallbackHandler.on_chain_start callback: AttributeError(\"'NoneType' object has no attribute 'get'\")\n",
      "Error in StdOutCallbackHandler.on_chain_start callback: AttributeError(\"'NoneType' object has no attribute 'get'\")\n"
     ]
    },
    {
     "name": "stdout",
     "output_type": "stream",
     "text": [
      "Prompt after formatting:\n",
      "\u001b[32;1m\u001b[1;3m\n",
      "Text:As a scientific endeavour, machine learning grew out of the quest for artificial intelligence (AI). In the early days of AI as an academic discipline, some researchers were interested in having machines learn from data. They attempted to approach the problem with various symbolic methods, as well as what were then termed \"neural networks\"; these were mostly perceptrons and other models that were later found to be reinventions of the generalised linear models of statistics.[20] Probabilistic reasoning was also employed, especially in automated medical diagnosis.[21]: 488 \n",
      "\n",
      "However, an increasing emphasis on the logical, knowledge-based approach caused a rift between AI and machine learning. Probabilistic systems were plagued by theoretical and practical problems of data acquisition and representation.[21]: 488  By 1980, expert systems had come to dominate AI, and statistics was out of favour.[22] Work on symbolic/knowledge-based learning did continue within AI, leading to inductive logic programming(ILP), but the more statistical line of research was now outside the field of AI proper, in pattern recognition and information retrieval.[21]: 708–710, 755  Neural networks research had been abandoned by AI and computer science around the same time. This line, too, was continued outside the AI/CS field, as \"connectionism\", by researchers from other disciplines including John Hopfield, David Rumelhart, and Geoffrey Hinton. Their main success came in the mid-1980s with the reinvention of backpropagation.[21]: 25 \n",
      "\n",
      "Machine learning (ML), reorganised and recognised as its own field, started to flourish in the 1990s. The field changed its goal from achieving artificial intelligence to tackling solvable problems of a practical nature. It shifted focus away from the symbolic approaches it had inherited from AI, and toward methods and models borrowed from statistics, fuzzy logic, and probability theory.[22]\n",
      "You are an expert mcq generator.Given the above text it is ur job to generate a quiz of 5 multiple choice questions for the machine learning students in formal tone. Make sure the questions are not repeated and check all the questions to be conforming the text as well. make sure to format the response like Response_JSON below to use it as a guide \n",
      "Ensure to make 5 mcq questions and not more than that.\n",
      "###Response_JSON\n",
      "{\"questions\": [{\"question_number\": 1, \"question\": \"Question 1 goes here.\", \"options\": {\"a\": \"Option 1\", \"b\": \"Option 2\", \"c\": \"Option 3\", \"d\": \"Option 4\"}, \"correct_answer\": \"correct answer goes here\"}, {\"question_number\": 2, \"question\": \"Question 2 goes here.\", \"options\": {\"a\": \"Option 1\", \"b\": \"Option 2\", \"c\": \"Option 3\", \"d\": \"Option 4\"}, \"correct_answer\": \"correct answer goes here\"}, {\"question_number\": 3, \"question\": \"Question 3 goes here.\", \"options\": {\"a\": \"Option 1\", \"b\": \"Option 2\", \"c\": \"Option 3\", \"d\": \"Option 4\"}, \"correct_answer\": \"correct answer goes here\"}, {\"question_number\": 4, \"question\": \"Question 4 goes here.\", \"options\": {\"a\": \"Option 1\", \"b\": \"Option 2\", \"c\": \"Option 3\", \"d\": \"Option 4\"}, \"correct_answer\": \"correct answer goes here\"}, {\"question_number\": 5, \"question\": \"Question 5 goes here.\", \"options\": {\"a\": \"Option 1\", \"b\": \"Option 2\", \"c\": \"Option 3\", \"d\": \"Option 4\"}, \"correct_answer\": \"correct answer goes here\"}]}\n",
      "\u001b[0m\n"
     ]
    },
    {
     "name": "stderr",
     "output_type": "stream",
     "text": [
      "Error in StdOutCallbackHandler.on_chain_start callback: AttributeError(\"'NoneType' object has no attribute 'get'\")\n"
     ]
    },
    {
     "name": "stdout",
     "output_type": "stream",
     "text": [
      "\n",
      "\u001b[1m> Finished chain.\u001b[0m\n",
      "Prompt after formatting:\n",
      "\u001b[32;1m\u001b[1;3m\n",
      "    You are an expert english grammarian and writer Given A MCQ quiz for machine learning students.You need to evaluatethe complexity of the question and give a complete analysis of the quiz only use at max 50 words for complexity if the quiz is not as per the cognitive and analytical abilities of the students update the quiz questions which needs to be changed and change tone such that it perfectly fits the students abilities \n",
      "    QQuiz Mcqs:\n",
      "Text:As a scientific endeavour, machine learning grew out of the quest for artificial intelligence (AI). In the early days of AI as an academic discipline, some researchers were interested in having machines learn from data. They attempted to approach the problem with various symbolic methods, as well as what were then termed \"neural networks\"; these were mostly perceptrons and other models that were later found to be reinventions of the generalised linear models of statistics.[20] Probabilistic reasoning was also employed, especially in automated medical diagnosis.[21]: 488 \n",
      "\n",
      "However, an increasing emphasis on the logical, knowledge-based approach caused a rift between AI and machine learning. Probabilistic systems were plagued by theoretical and practical problems of data acquisition and representation.[21]: 488  By 1980, expert systems had come to dominate AI, and statistics was out of favour.[22] Work on symbolic/knowledge-based learning did continue within AI, leading to inductive logic programming(ILP), but the more statistical line of research was now outside the field of AI proper, in pattern recognition and information retrieval.[21]: 708–710, 755  Neural networks research had been abandoned by AI and computer science around the same time. This line, too, was continued outside the AI/CS field, as \"connectionism\", by researchers from other disciplines including John Hopfield, David Rumelhart, and Geoffrey Hinton. Their main success came in the mid-1980s with the reinvention of backpropagation.[21]: 25 \n",
      "\n",
      "Machine learning (ML), reorganised and recognised as its own field, started to flourish in the 1990s. The field changed its goal from achieving artificial intelligence to tackling solvable problems of a practical nature. It shifted focus away from the symbolic approaches it had inherited from AI, and toward methods and models borrowed from statistics, fuzzy logic, and probability theory.[22]\n",
      "You are an expert mcq generator.Given the above text it is ur job to generate a quiz of 5 multiple choice questions for the machine learning students in formal tone. Make sure the questions are not repeated and check all the questions to be conforming the text as well. make sure to format the response like Response_JSON below to use it as a guide \n",
      "Ensure to make 5 mcq questions and not more than that.\n",
      "###Response_JSON\n",
      "{\"questions\": [{\"question_number\": 1, \"question\": \"Question 1 goes here.\", \"options\": {\"a\": \"Option 1\", \"b\": \"Option 2\", \"c\": \"Option 3\", \"d\": \"Option 4\"}, \"correct_answer\": \"correct answer goes here\"}, {\"question_number\": 2, \"question\": \"Question 2 goes here.\", \"options\": {\"a\": \"Option 1\", \"b\": \"Option 2\", \"c\": \"Option 3\", \"d\": \"Option 4\"}, \"correct_answer\": \"correct answer goes here\"}, {\"question_number\": 3, \"question\": \"Question 3 goes here.\", \"options\": {\"a\": \"Option 1\", \"b\": \"Option 2\", \"c\": \"Option 3\", \"d\": \"Option 4\"}, \"correct_answer\": \"correct answer goes here\"}, {\"question_number\": 4, \"question\": \"Question 4 goes here.\", \"options\": {\"a\": \"Option 1\", \"b\": \"Option 2\", \"c\": \"Option 3\", \"d\": \"Option 4\"}, \"correct_answer\": \"correct answer goes here\"}, {\"question_number\": 5, \"question\": \"Question 5 goes here.\", \"options\": {\"a\": \"Option 1\", \"b\": \"Option 2\", \"c\": \"Option 3\", \"d\": \"Option 4\"}, \"correct_answer\": \"correct answer goes here\"}]}\n",
      "\n",
      "###Response_JSON\n",
      "{\"questions\": [{\"question_number\": 1, \"question\": \"Question 1 goes here.\", \"options\": {\"a\": \"Option 1\", \"b\": \"Option 2\", \"c\": \"Option 3\", \"d\": \"Option 4\"}, \"correct_answer\": \"correct answer goes here\"}, {\"question_number\": 2, \"question\": \"Question 2 goes here.\", \"options\": {\"a\": \"Option 1\", \"b\": \"Option 2\", \"c\": \"Option 3\", \"d\": \"Option 4\"}, \"correct_answer\": \"correct answer goes here\"}, {\"question_number\": 3, \"question\": \"Question 3 goes here.\", \"options\": {\"a\": \"Option 1\", \"b\": \"Option 2\", \"c\": \"Option 3\", \"d\": \"Option 4\"}, \"correct_answer\": \"correct answer goes here\"}, {\"question_number\": 4, \"question\": \"Question 4 goes here.\", \"options\": {\"a\": \"Option 1\", \"b\": \"Option 2\", \"c\": \"Option 3\", \"d\": \"Option 4\"}, \"correct_answer\": \"correct answer goes here\"}, {\"question_number\": 5, \"question\": \"Question 5 goes here.\", \"options\": {\"a\": \"Option 1\", \"b\": \"Option 2\", \"c\": \"Option 3\", \"d\": \"Option 4\"}, \"correct_answer\": \"correct answer goes here\"}]}\n",
      "\n",
      "    Check from an expert english writer of the above quiz :\n",
      "    \u001b[0m\n",
      "\n",
      "\u001b[1m> Finished chain.\u001b[0m\n",
      "\n",
      "\u001b[1m> Finished chain.\u001b[0m\n"
     ]
    }
   ],
   "source": [
    "response=generate_evaluated_chain({\"text\":TEXT,\"number\":5,\"tone\":\"formal\",\"subject\":\"machine learning\",\"response_json\":json.dumps(Response_JSON)})"
   ]
  },
  {
   "cell_type": "code",
   "execution_count": 35,
   "id": "03695f9e",
   "metadata": {},
   "outputs": [
    {
     "data": {
      "text/plain": [
       "{'text': 'As a scientific endeavour, machine learning grew out of the quest for artificial intelligence (AI). In the early days of AI as an academic discipline, some researchers were interested in having machines learn from data. They attempted to approach the problem with various symbolic methods, as well as what were then termed \"neural networks\"; these were mostly perceptrons and other models that were later found to be reinventions of the generalised linear models of statistics.[20] Probabilistic reasoning was also employed, especially in automated medical diagnosis.[21]:\\u200a488\\u200a\\n\\nHowever, an increasing emphasis on the logical, knowledge-based approach caused a rift between AI and machine learning. Probabilistic systems were plagued by theoretical and practical problems of data acquisition and representation.[21]:\\u200a488\\u200a By 1980, expert systems had come to dominate AI, and statistics was out of favour.[22] Work on symbolic/knowledge-based learning did continue within AI, leading to inductive logic programming(ILP), but the more statistical line of research was now outside the field of AI proper, in pattern recognition and information retrieval.[21]:\\u200a708–710,\\u200a755\\u200a Neural networks research had been abandoned by AI and computer science around the same time. This line, too, was continued outside the AI/CS field, as \"connectionism\", by researchers from other disciplines including John Hopfield, David Rumelhart, and Geoffrey Hinton. Their main success came in the mid-1980s with the reinvention of backpropagation.[21]:\\u200a25\\u200a\\n\\nMachine learning (ML), reorganised and recognised as its own field, started to flourish in the 1990s. The field changed its goal from achieving artificial intelligence to tackling solvable problems of a practical nature. It shifted focus away from the symbolic approaches it had inherited from AI, and toward methods and models borrowed from statistics, fuzzy logic, and probability theory.[22]',\n",
       " 'number': 5,\n",
       " 'tone': 'formal',\n",
       " 'subject': 'machine learning',\n",
       " 'response_json': '{\"questions\": [{\"question_number\": 1, \"question\": \"Question 1 goes here.\", \"options\": {\"a\": \"Option 1\", \"b\": \"Option 2\", \"c\": \"Option 3\", \"d\": \"Option 4\"}, \"correct_answer\": \"correct answer goes here\"}, {\"question_number\": 2, \"question\": \"Question 2 goes here.\", \"options\": {\"a\": \"Option 1\", \"b\": \"Option 2\", \"c\": \"Option 3\", \"d\": \"Option 4\"}, \"correct_answer\": \"correct answer goes here\"}, {\"question_number\": 3, \"question\": \"Question 3 goes here.\", \"options\": {\"a\": \"Option 1\", \"b\": \"Option 2\", \"c\": \"Option 3\", \"d\": \"Option 4\"}, \"correct_answer\": \"correct answer goes here\"}, {\"question_number\": 4, \"question\": \"Question 4 goes here.\", \"options\": {\"a\": \"Option 1\", \"b\": \"Option 2\", \"c\": \"Option 3\", \"d\": \"Option 4\"}, \"correct_answer\": \"correct answer goes here\"}, {\"question_number\": 5, \"question\": \"Question 5 goes here.\", \"options\": {\"a\": \"Option 1\", \"b\": \"Option 2\", \"c\": \"Option 3\", \"d\": \"Option 4\"}, \"correct_answer\": \"correct answer goes here\"}]}',\n",
       " 'quiz': '\\nText:As a scientific endeavour, machine learning grew out of the quest for artificial intelligence (AI). In the early days of AI as an academic discipline, some researchers were interested in having machines learn from data. They attempted to approach the problem with various symbolic methods, as well as what were then termed \"neural networks\"; these were mostly perceptrons and other models that were later found to be reinventions of the generalised linear models of statistics.[20] Probabilistic reasoning was also employed, especially in automated medical diagnosis.[21]:\\u200a488\\u200a\\n\\nHowever, an increasing emphasis on the logical, knowledge-based approach caused a rift between AI and machine learning. Probabilistic systems were plagued by theoretical and practical problems of data acquisition and representation.[21]:\\u200a488\\u200a By 1980, expert systems had come to dominate AI, and statistics was out of favour.[22] Work on symbolic/knowledge-based learning did continue within AI, leading to inductive logic programming(ILP), but the more statistical line of research was now outside the field of AI proper, in pattern recognition and information retrieval.[21]:\\u200a708–710,\\u200a755\\u200a Neural networks research had been abandoned by AI and computer science around the same time. This line, too, was continued outside the AI/CS field, as \"connectionism\", by researchers from other disciplines including John Hopfield, David Rumelhart, and Geoffrey Hinton. Their main success came in the mid-1980s with the reinvention of backpropagation.[21]:\\u200a25\\u200a\\n\\nMachine learning (ML), reorganised and recognised as its own field, started to flourish in the 1990s. The field changed its goal from achieving artificial intelligence to tackling solvable problems of a practical nature. It shifted focus away from the symbolic approaches it had inherited from AI, and toward methods and models borrowed from statistics, fuzzy logic, and probability theory.[22]\\nYou are an expert mcq generator.Given the above text it is ur job to generate a quiz of 5 multiple choice questions for the machine learning students in formal tone. Make sure the questions are not repeated and check all the questions to be conforming the text as well. make sure to format the response like Response_JSON below to use it as a guide \\nEnsure to make 5 mcq questions and not more than that.\\n###Response_JSON\\n{\"questions\": [{\"question_number\": 1, \"question\": \"Question 1 goes here.\", \"options\": {\"a\": \"Option 1\", \"b\": \"Option 2\", \"c\": \"Option 3\", \"d\": \"Option 4\"}, \"correct_answer\": \"correct answer goes here\"}, {\"question_number\": 2, \"question\": \"Question 2 goes here.\", \"options\": {\"a\": \"Option 1\", \"b\": \"Option 2\", \"c\": \"Option 3\", \"d\": \"Option 4\"}, \"correct_answer\": \"correct answer goes here\"}, {\"question_number\": 3, \"question\": \"Question 3 goes here.\", \"options\": {\"a\": \"Option 1\", \"b\": \"Option 2\", \"c\": \"Option 3\", \"d\": \"Option 4\"}, \"correct_answer\": \"correct answer goes here\"}, {\"question_number\": 4, \"question\": \"Question 4 goes here.\", \"options\": {\"a\": \"Option 1\", \"b\": \"Option 2\", \"c\": \"Option 3\", \"d\": \"Option 4\"}, \"correct_answer\": \"correct answer goes here\"}, {\"question_number\": 5, \"question\": \"Question 5 goes here.\", \"options\": {\"a\": \"Option 1\", \"b\": \"Option 2\", \"c\": \"Option 3\", \"d\": \"Option 4\"}, \"correct_answer\": \"correct answer goes here\"}]}\\n\\n###Response_JSON\\n{\"questions\": [{\"question_number\": 1, \"question\": \"Question 1 goes here.\", \"options\": {\"a\": \"Option 1\", \"b\": \"Option 2\", \"c\": \"Option 3\", \"d\": \"Option 4\"}, \"correct_answer\": \"correct answer goes here\"}, {\"question_number\": 2, \"question\": \"Question 2 goes here.\", \"options\": {\"a\": \"Option 1\", \"b\": \"Option 2\", \"c\": \"Option 3\", \"d\": \"Option 4\"}, \"correct_answer\": \"correct answer goes here\"}, {\"question_number\": 3, \"question\": \"Question 3 goes here.\", \"options\": {\"a\": \"Option 1\", \"b\": \"Option 2\", \"c\": \"Option 3\", \"d\": \"Option 4\"}, \"correct_answer\": \"correct answer goes here\"}, {\"question_number\": 4, \"question\": \"Question 4 goes here.\", \"options\": {\"a\": \"Option 1\", \"b\": \"Option 2\", \"c\": \"Option 3\", \"d\": \"Option 4\"}, \"correct_answer\": \"correct answer goes here\"}, {\"question_number\": 5, \"question\": \"Question 5 goes here.\", \"options\": {\"a\": \"Option 1\", \"b\": \"Option 2\", \"c\": \"Option 3\", \"d\": \"Option 4\"}, \"correct_answer\": \"correct answer goes here\"}]}',\n",
       " 'review': '\\n    You are an expert english grammarian and writer Given A MCQ quiz for machine learning students.You need to evaluatethe complexity of the question and give a complete analysis of the quiz only use at max 50 words for complexity if the quiz is not as per the cognitive and analytical abilities of the students update the quiz questions which needs to be changed and change tone such that it perfectly fits the students abilities \\n    QQuiz Mcqs:\\nText:As a scientific endeavour, machine learning grew out of the quest for artificial intelligence (AI). In the early days of AI as an academic discipline, some researchers were interested in having machines learn from data. They attempted to approach the problem with various symbolic methods, as well as what were then termed \"neural networks\"; these were mostly perceptrons and other models that were later found to be reinventions of the generalised linear models of statistics.[20] Probabilistic reasoning was also employed, especially in automated medical diagnosis.[21]:\\u200a488\\u200a\\n\\nHowever, an increasing emphasis on the logical, knowledge-based approach caused a rift between AI and machine learning. Probabilistic systems were plagued by theoretical and practical problems of data acquisition and representation.[21]:\\u200a488\\u200a By 1980, expert systems had come to dominate AI, and statistics was out of favour.[22] Work on symbolic/knowledge-based learning did continue within AI, leading to inductive logic programming(ILP), but the more statistical line of research was now outside the field of AI proper, in pattern recognition and information retrieval.[21]:\\u200a708–710,\\u200a755\\u200a Neural networks research had been abandoned by AI and computer science around the same time. This line, too, was continued outside the AI/CS field, as \"connectionism\", by researchers from other disciplines including John Hopfield, David Rumelhart, and Geoffrey Hinton. Their main success came in the mid-1980s with the reinvention of backpropagation.[21]:\\u200a25\\u200a\\n\\nMachine learning (ML), reorganised and recognised as its own field, started to flourish in the 1990s. The field changed its goal from achieving artificial intelligence to tackling solvable problems of a practical nature. It shifted focus away from the symbolic approaches it had inherited from AI, and toward methods and models borrowed from statistics, fuzzy logic, and probability theory.[22]\\nYou are an expert mcq generator.Given the above text it is ur job to generate a quiz of 5 multiple choice questions for the machine learning students in formal tone. Make sure the questions are not repeated and check all the questions to be conforming the text as well. make sure to format the response like Response_JSON below to use it as a guide \\nEnsure to make 5 mcq questions and not more than that.\\n###Response_JSON\\n{\"questions\": [{\"question_number\": 1, \"question\": \"Question 1 goes here.\", \"options\": {\"a\": \"Option 1\", \"b\": \"Option 2\", \"c\": \"Option 3\", \"d\": \"Option 4\"}, \"correct_answer\": \"correct answer goes here\"}, {\"question_number\": 2, \"question\": \"Question 2 goes here.\", \"options\": {\"a\": \"Option 1\", \"b\": \"Option 2\", \"c\": \"Option 3\", \"d\": \"Option 4\"}, \"correct_answer\": \"correct answer goes here\"}, {\"question_number\": 3, \"question\": \"Question 3 goes here.\", \"options\": {\"a\": \"Option 1\", \"b\": \"Option 2\", \"c\": \"Option 3\", \"d\": \"Option 4\"}, \"correct_answer\": \"correct answer goes here\"}, {\"question_number\": 4, \"question\": \"Question 4 goes here.\", \"options\": {\"a\": \"Option 1\", \"b\": \"Option 2\", \"c\": \"Option 3\", \"d\": \"Option 4\"}, \"correct_answer\": \"correct answer goes here\"}, {\"question_number\": 5, \"question\": \"Question 5 goes here.\", \"options\": {\"a\": \"Option 1\", \"b\": \"Option 2\", \"c\": \"Option 3\", \"d\": \"Option 4\"}, \"correct_answer\": \"correct answer goes here\"}]}\\n\\n###Response_JSON\\n{\"questions\": [{\"question_number\": 1, \"question\": \"Question 1 goes here.\", \"options\": {\"a\": \"Option 1\", \"b\": \"Option 2\", \"c\": \"Option 3\", \"d\": \"Option 4\"}, \"correct_answer\": \"correct answer goes here\"}, {\"question_number\": 2, \"question\": \"Question 2 goes here.\", \"options\": {\"a\": \"Option 1\", \"b\": \"Option 2\", \"c\": \"Option 3\", \"d\": \"Option 4\"}, \"correct_answer\": \"correct answer goes here\"}, {\"question_number\": 3, \"question\": \"Question 3 goes here.\", \"options\": {\"a\": \"Option 1\", \"b\": \"Option 2\", \"c\": \"Option 3\", \"d\": \"Option 4\"}, \"correct_answer\": \"correct answer goes here\"}, {\"question_number\": 4, \"question\": \"Question 4 goes here.\", \"options\": {\"a\": \"Option 1\", \"b\": \"Option 2\", \"c\": \"Option 3\", \"d\": \"Option 4\"}, \"correct_answer\": \"correct answer goes here\"}, {\"question_number\": 5, \"question\": \"Question 5 goes here.\", \"options\": {\"a\": \"Option 1\", \"b\": \"Option 2\", \"c\": \"Option 3\", \"d\": \"Option 4\"}, \"correct_answer\": \"correct answer goes here\"}]}\\n\\n    Check from an expert english writer of the above quiz :\\n    \\n    You are an expert english grammarian and writer.\\n    \\n    You need to evaluate the complexity of the question and give a complete analysis of the quiz only use at max 50 words for complexity if the quiz is not as per the cognitive and analytical abilities of the students.\\n    \\n    QQuiz Mcqs:\\n    \\n    Text:As a scientific endeavour, machine learning grew out of the quest for artificial intelligence (AI). In the early days of AI as an academic discipline, some researchers were interested in having machines learn from data. They attempted to approach the problem with various symbolic methods, as well as what were then termed \"neural networks\"; these were mostly perceptrons and other models that were later found to be reinventions of the generalised linear models of statistics.\\n    \\n    However, an increasing emphasis on the logical, knowledge-based approach caused a rift between AI and machine learning. Probabilistic reasoning was also employed, especially in automated medical diagnosis.\\n    \\n    Work on symbolic/knowledge-based learning did continue within AI, leading to inductive logic programming (ILP), but the more statistical line of research was now outside the field of AI proper, in pattern recognition and information retrieval.\\n    \\n    Work on symbolic/knowledge-based learning did continue within AI, leading to inductive logic programming (ILP), but the more statistical line of research was now outside the field of AI proper, in pattern recognition and information retrieval.\\n    \\n    Machine learning (ML), reorganised and recognised as its own field, started to flourish in the 1990s. The field changed its goal from achieving artificial intelligence to tackling solvable problems of a practical nature. It shifted focus away from the symbolic approaches it had inherited from AI, and toward methods and models borrowed from statistics, fuzzy logic, and probability theory.\\n    \\n    Machine learning (ML), reorganised and recognised as its own field, started to flourish in the 1990s. The field changed its goal from achieving artificial intelligence to tackling solvable problems of a practical nature. It shifted focus away from the symbolic approaches it had inherited from AI, and toward methods and models borrowed from statistics, fuzzy logic, and probability theory.\\n    \\n    Machine learning (ML), reorganised and recognised as its own field, started to flourish in the 1990s. The field changed its goal from achieving artificial intelligence to tackling solvable problems of a practical nature. It shifted focus away from the symbolic approaches it had inherited from AI, and toward methods and models borrowed from statistics, fuzzy logic, and probability theory.\\n    \\n    Machine learning (ML), reorganised and recognised as its own field, started to flourish in the 1990s. The field changed its goal from achieving artificial intelligence to tackling solvable problems of a practical nature. It shifted focus away from the symbolic approaches it had inherited from AI, and toward methods and models borrowed from statistics, fuzzy logic, and probability theory.'}"
      ]
     },
     "execution_count": 35,
     "metadata": {},
     "output_type": "execute_result"
    }
   ],
   "source": [
    "response"
   ]
  },
  {
   "cell_type": "code",
   "execution_count": 39,
   "id": "bce14984",
   "metadata": {},
   "outputs": [],
   "source": [
    "quiz=response.get(\"quiz\")"
   ]
  },
  {
   "cell_type": "code",
   "execution_count": 40,
   "id": "3a0225b7",
   "metadata": {},
   "outputs": [
    {
     "name": "stdout",
     "output_type": "stream",
     "text": [
      "\n",
      "Text:As a scientific endeavour, machine learning grew out of the quest for artificial intelligence (AI). In the early days of AI as an academic discipline, some researchers were interested in having machines learn from data. They attempted to approach the problem with various symbolic methods, as well as what were then termed \"neural networks\"; these were mostly perceptrons and other models that were later found to be reinventions of the generalised linear models of statistics.[20] Probabilistic reasoning was also employed, especially in automated medical diagnosis.[21]: 488 \n",
      "\n",
      "However, an increasing emphasis on the logical, knowledge-based approach caused a rift between AI and machine learning. Probabilistic systems were plagued by theoretical and practical problems of data acquisition and representation.[21]: 488  By 1980, expert systems had come to dominate AI, and statistics was out of favour.[22] Work on symbolic/knowledge-based learning did continue within AI, leading to inductive logic programming(ILP), but the more statistical line of research was now outside the field of AI proper, in pattern recognition and information retrieval.[21]: 708–710, 755  Neural networks research had been abandoned by AI and computer science around the same time. This line, too, was continued outside the AI/CS field, as \"connectionism\", by researchers from other disciplines including John Hopfield, David Rumelhart, and Geoffrey Hinton. Their main success came in the mid-1980s with the reinvention of backpropagation.[21]: 25 \n",
      "\n",
      "Machine learning (ML), reorganised and recognised as its own field, started to flourish in the 1990s. The field changed its goal from achieving artificial intelligence to tackling solvable problems of a practical nature. It shifted focus away from the symbolic approaches it had inherited from AI, and toward methods and models borrowed from statistics, fuzzy logic, and probability theory.[22]\n",
      "You are an expert mcq generator.Given the above text it is ur job to generate a quiz of 5 multiple choice questions for the machine learning students in formal tone. Make sure the questions are not repeated and check all the questions to be conforming the text as well. make sure to format the response like Response_JSON below to use it as a guide \n",
      "Ensure to make 5 mcq questions and not more than that.\n",
      "###Response_JSON\n",
      "{\"questions\": [{\"question_number\": 1, \"question\": \"Question 1 goes here.\", \"options\": {\"a\": \"Option 1\", \"b\": \"Option 2\", \"c\": \"Option 3\", \"d\": \"Option 4\"}, \"correct_answer\": \"correct answer goes here\"}, {\"question_number\": 2, \"question\": \"Question 2 goes here.\", \"options\": {\"a\": \"Option 1\", \"b\": \"Option 2\", \"c\": \"Option 3\", \"d\": \"Option 4\"}, \"correct_answer\": \"correct answer goes here\"}, {\"question_number\": 3, \"question\": \"Question 3 goes here.\", \"options\": {\"a\": \"Option 1\", \"b\": \"Option 2\", \"c\": \"Option 3\", \"d\": \"Option 4\"}, \"correct_answer\": \"correct answer goes here\"}, {\"question_number\": 4, \"question\": \"Question 4 goes here.\", \"options\": {\"a\": \"Option 1\", \"b\": \"Option 2\", \"c\": \"Option 3\", \"d\": \"Option 4\"}, \"correct_answer\": \"correct answer goes here\"}, {\"question_number\": 5, \"question\": \"Question 5 goes here.\", \"options\": {\"a\": \"Option 1\", \"b\": \"Option 2\", \"c\": \"Option 3\", \"d\": \"Option 4\"}, \"correct_answer\": \"correct answer goes here\"}]}\n",
      "\n",
      "###Response_JSON\n",
      "{\"questions\": [{\"question_number\": 1, \"question\": \"Question 1 goes here.\", \"options\": {\"a\": \"Option 1\", \"b\": \"Option 2\", \"c\": \"Option 3\", \"d\": \"Option 4\"}, \"correct_answer\": \"correct answer goes here\"}, {\"question_number\": 2, \"question\": \"Question 2 goes here.\", \"options\": {\"a\": \"Option 1\", \"b\": \"Option 2\", \"c\": \"Option 3\", \"d\": \"Option 4\"}, \"correct_answer\": \"correct answer goes here\"}, {\"question_number\": 3, \"question\": \"Question 3 goes here.\", \"options\": {\"a\": \"Option 1\", \"b\": \"Option 2\", \"c\": \"Option 3\", \"d\": \"Option 4\"}, \"correct_answer\": \"correct answer goes here\"}, {\"question_number\": 4, \"question\": \"Question 4 goes here.\", \"options\": {\"a\": \"Option 1\", \"b\": \"Option 2\", \"c\": \"Option 3\", \"d\": \"Option 4\"}, \"correct_answer\": \"correct answer goes here\"}, {\"question_number\": 5, \"question\": \"Question 5 goes here.\", \"options\": {\"a\": \"Option 1\", \"b\": \"Option 2\", \"c\": \"Option 3\", \"d\": \"Option 4\"}, \"correct_answer\": \"correct answer goes here\"}]}\n"
     ]
    }
   ],
   "source": [
    "print(quiz)"
   ]
  },
  {
   "cell_type": "code",
   "execution_count": null,
   "id": "3cd73d40",
   "metadata": {},
   "outputs": [],
   "source": []
  }
 ],
 "metadata": {
  "kernelspec": {
   "display_name": "env",
   "language": "python",
   "name": "python3"
  },
  "language_info": {
   "codemirror_mode": {
    "name": "ipython",
    "version": 3
   },
   "file_extension": ".py",
   "mimetype": "text/x-python",
   "name": "python",
   "nbconvert_exporter": "python",
   "pygments_lexer": "ipython3",
   "version": "3.8.20"
  }
 },
 "nbformat": 4,
 "nbformat_minor": 5
}
