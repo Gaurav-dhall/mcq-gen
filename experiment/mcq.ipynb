{
 "cells": [
  {
   "cell_type": "code",
   "execution_count": 15,
   "id": "51ad5ee4",
   "metadata": {},
   "outputs": [
    {
     "data": {
      "text/plain": [
       "True"
      ]
     },
     "execution_count": 15,
     "metadata": {},
     "output_type": "execute_result"
    }
   ],
   "source": [
    "import os \n",
    "import json \n",
    "import pandas as pd \n",
    "import traceback\n",
    "from dotenv import load_dotenv\n",
    "load_dotenv()\n"
   ]
  },
  {
   "cell_type": "code",
   "execution_count": 16,
   "id": "9aa50eca",
   "metadata": {},
   "outputs": [],
   "source": [
    "\n",
    "\n",
    "from langchain.prompts import PromptTemplate\n",
    "from langchain.chains import LLMChain\n",
    "from langchain.chains import SequentialChain\n",
    "import PyPDF2\n",
    "from langchain_groq import ChatGroq\n",
    "\n",
    "from langchain.llms import OpenAI\n",
    "from langchain.chat_models import ChatOpenAI\n",
    "from langchain.callbacks import get_openai_callback\n",
    "\n",
    "\n"
   ]
  },
  {
   "cell_type": "code",
   "execution_count": null,
   "id": "5d08a82e",
   "metadata": {},
   "outputs": [
    {
     "name": "stdout",
     "output_type": "stream",
     "text": [
      "None\n"
     ]
    }
   ],
   "source": []
  },
  {
   "cell_type": "code",
   "execution_count": 35,
   "id": "9502686e",
   "metadata": {},
   "outputs": [],
   "source": [
    "llm = ChatGroq(model_name=\"openai/gpt-oss-20b\", temperature=0.7)\n"
   ]
  },
  {
   "cell_type": "code",
   "execution_count": 36,
   "id": "93c11020",
   "metadata": {},
   "outputs": [],
   "source": [
    "Template=\"\"\"\n",
    "Text:{text}\n",
    "You are an expert mcq generator.Given the above text it is ur job to generate a quiz of {number} multiple choice questions for the {subject} students in {tone} tone. Make sure the questions are not repeated and check all the questions to be conforming the text as well. make sure to format the response like Response_JSON below to use it as a guide \n",
    "Ensure to make {number} mcq questions and not more than that.\n",
    "###Response_JSON\n",
    "{response_json}\n",
    "\"\"\""
   ]
  },
  {
   "cell_type": "code",
   "execution_count": 37,
   "id": "9256f350",
   "metadata": {},
   "outputs": [],
   "source": [
    "Response_JSON = {\n",
    "  \"questions\": [\n",
    "    {\n",
    "      \"question_number\": 1,\n",
    "      \"question\": \"Question 1 goes here.\",\n",
    "      \"options\": {\n",
    "        \"a\": \"Option 1\",\n",
    "        \"b\": \"Option 2\",\n",
    "        \"c\": \"Option 3\",\n",
    "        \"d\": \"Option 4\"\n",
    "      },\n",
    "      \"correct_answer\": \"correct answer goes here\"\n",
    "    },\n",
    "    {\n",
    "      \"question_number\": 2,\n",
    "      \"question\": \"Question 2 goes here.\",\n",
    "      \"options\": {\n",
    "        \"a\": \"Option 1\",\n",
    "        \"b\": \"Option 2\",\n",
    "        \"c\": \"Option 3\",\n",
    "        \"d\": \"Option 4\"\n",
    "      },\n",
    "      \"correct_answer\": \"correct answer goes here\"\n",
    "    },\n",
    "    {\n",
    "      \"question_number\": 3,\n",
    "      \"question\": \"Question 3 goes here.\",\n",
    "      \"options\": {\n",
    "        \"a\": \"Option 1\",\n",
    "        \"b\": \"Option 2\",\n",
    "        \"c\": \"Option 3\",\n",
    "        \"d\": \"Option 4\"\n",
    "      },\n",
    "      \"correct_answer\": \"correct answer goes here\"\n",
    "    },\n",
    "    {\n",
    "      \"question_number\": 4,\n",
    "      \"question\": \"Question 4 goes here.\",\n",
    "      \"options\": {\n",
    "        \"a\": \"Option 1\",\n",
    "        \"b\": \"Option 2\",\n",
    "        \"c\": \"Option 3\",\n",
    "        \"d\": \"Option 4\"\n",
    "      },\n",
    "      \"correct_answer\": \"correct answer goes here\"\n",
    "    },\n",
    "    {\n",
    "      \"question_number\": 5,\n",
    "      \"question\": \"Question 5 goes here.\",\n",
    "      \"options\": {\n",
    "        \"a\": \"Option 1\",\n",
    "        \"b\": \"Option 2\",\n",
    "        \"c\": \"Option 3\",\n",
    "        \"d\": \"Option 4\"\n",
    "      },\n",
    "      \"correct_answer\": \"correct answer goes here\"\n",
    "    }\n",
    "  ]\n",
    "}\n",
    "\n"
   ]
  },
  {
   "cell_type": "code",
   "execution_count": 38,
   "id": "05898af3",
   "metadata": {},
   "outputs": [],
   "source": [
    "quiz_generation_prompt=PromptTemplate(\n",
    "    input_variables=[\"text\",\"number\",\"tone\",\"subject\",\"response_json\"],\n",
    "    template=Template\n",
    ")"
   ]
  },
  {
   "cell_type": "code",
   "execution_count": 39,
   "id": "095444bf",
   "metadata": {},
   "outputs": [],
   "source": [
    "quiz_chain= LLMChain(\n",
    "    llm=llm,\n",
    "    prompt=quiz_generation_prompt,\n",
    "    output_key=\"quiz\",\n",
    "    verbose=True\n",
    "\n",
    ")"
   ]
  },
  {
   "cell_type": "code",
   "execution_count": 40,
   "id": "aff8e6a9",
   "metadata": {},
   "outputs": [],
   "source": [
    "Template2=\"\"\"\n",
    "    You are an expert english grammarian and writer Given A MCQ quiz for {subject} students.You need to evaluatethe complexity of the question and give a complete analysis of the quiz only use at max 50 words for complexity if the quiz is not as per the cognitive and analytical abilities of the students update the quiz questions which needs to be changed and change tone such that it perfectly fits the students abilities \n",
    "    QQuiz Mcqs:{quiz}\n",
    "\n",
    "    Check from an expert english writer of the above quiz :\n",
    "    \"\"\""
   ]
  },
  {
   "cell_type": "code",
   "execution_count": 41,
   "id": "d76a20c0",
   "metadata": {},
   "outputs": [],
   "source": [
    "quiz_evaluation_prompt=PromptTemplate(\n",
    "    input_variables=[\"quiz\",\"subject\"],\n",
    "    template=Template2\n",
    ")"
   ]
  },
  {
   "cell_type": "code",
   "execution_count": 42,
   "id": "a9770814",
   "metadata": {},
   "outputs": [],
   "source": [
    "review_chain=LLMChain(\n",
    "    llm=llm,\n",
    "    prompt=quiz_evaluation_prompt,\n",
    "    output_key=\"review\",\n",
    "    verbose=True\n",
    ")"
   ]
  },
  {
   "cell_type": "code",
   "execution_count": 43,
   "id": "41843120",
   "metadata": {},
   "outputs": [],
   "source": [
    "generate_evaluated_chain=SequentialChain(\n",
    "    chains=[quiz_chain,review_chain],\n",
    "    input_variables=[\"text\",\"number\",\"tone\",\"subject\",\"response_json\"],\n",
    "    output_variables=[\"quiz\",\"review\"],\n",
    "    verbose=True\n",
    ")"
   ]
  },
  {
   "cell_type": "code",
   "execution_count": 44,
   "id": "248b5968",
   "metadata": {},
   "outputs": [],
   "source": [
    "file_path=r\"C:\\Users\\gaura\\OneDrive\\programs\\mcq-gen\\data.txt\""
   ]
  },
  {
   "cell_type": "code",
   "execution_count": 45,
   "id": "4577ab2a",
   "metadata": {},
   "outputs": [
    {
     "data": {
      "text/plain": [
       "'C:\\\\Users\\\\gaura\\\\OneDrive\\\\programs\\\\mcq-gen\\\\data.txt'"
      ]
     },
     "execution_count": 45,
     "metadata": {},
     "output_type": "execute_result"
    }
   ],
   "source": [
    "file_path"
   ]
  },
  {
   "cell_type": "code",
   "execution_count": 46,
   "id": "36e90ee9",
   "metadata": {},
   "outputs": [],
   "source": [
    "with open(file_path, 'r') as file:\n",
    "    TEXT = file.read()"
   ]
  },
  {
   "cell_type": "code",
   "execution_count": 47,
   "id": "3639ceda",
   "metadata": {},
   "outputs": [
    {
     "name": "stdout",
     "output_type": "stream",
     "text": [
      "As a scientific endeavour, machine learning grew out of the quest for artificial intelligence (AI). In the early days of AI as an academic discipline, some researchers were interested in having machines learn from data. They attempted to approach the problem with various symbolic methods, as well as what were then termed \"neural networks\"; these were mostly perceptrons and other models that were later found to be reinventions of the generalised linear models of statistics.[20] Probabilistic reasoning was also employed, especially in automated medical diagnosis.[21]: 488 \n",
      "\n",
      "However, an increasing emphasis on the logical, knowledge-based approach caused a rift between AI and machine learning. Probabilistic systems were plagued by theoretical and practical problems of data acquisition and representation.[21]: 488  By 1980, expert systems had come to dominate AI, and statistics was out of favour.[22] Work on symbolic/knowledge-based learning did continue within AI, leading to inductive logic programming(ILP), but the more statistical line of research was now outside the field of AI proper, in pattern recognition and information retrieval.[21]: 708–710, 755  Neural networks research had been abandoned by AI and computer science around the same time. This line, too, was continued outside the AI/CS field, as \"connectionism\", by researchers from other disciplines including John Hopfield, David Rumelhart, and Geoffrey Hinton. Their main success came in the mid-1980s with the reinvention of backpropagation.[21]: 25 \n",
      "\n",
      "Machine learning (ML), reorganised and recognised as its own field, started to flourish in the 1990s. The field changed its goal from achieving artificial intelligence to tackling solvable problems of a practical nature. It shifted focus away from the symbolic approaches it had inherited from AI, and toward methods and models borrowed from statistics, fuzzy logic, and probability theory.[22]\n"
     ]
    }
   ],
   "source": [
    "print(TEXT)"
   ]
  },
  {
   "cell_type": "code",
   "execution_count": null,
   "id": "cd065f47",
   "metadata": {},
   "outputs": [
    {
     "data": {
      "text/plain": [
       "'{\"questions\": [{\"question_number\": 1, \"question\": \"Question 1 goes here.\", \"options\": {\"a\": \"Option 1\", \"b\": \"Option 2\", \"c\": \"Option 3\", \"d\": \"Option 4\"}, \"correct_answer\": \"correct answer goes here\"}, {\"question_number\": 2, \"question\": \"Question 2 goes here.\", \"options\": {\"a\": \"Option 1\", \"b\": \"Option 2\", \"c\": \"Option 3\", \"d\": \"Option 4\"}, \"correct_answer\": \"correct answer goes here\"}, {\"question_number\": 3, \"question\": \"Question 3 goes here.\", \"options\": {\"a\": \"Option 1\", \"b\": \"Option 2\", \"c\": \"Option 3\", \"d\": \"Option 4\"}, \"correct_answer\": \"correct answer goes here\"}, {\"question_number\": 4, \"question\": \"Question 4 goes here.\", \"options\": {\"a\": \"Option 1\", \"b\": \"Option 2\", \"c\": \"Option 3\", \"d\": \"Option 4\"}, \"correct_answer\": \"correct answer goes here\"}, {\"question_number\": 5, \"question\": \"Question 5 goes here.\", \"options\": {\"a\": \"Option 1\", \"b\": \"Option 2\", \"c\": \"Option 3\", \"d\": \"Option 4\"}, \"correct_answer\": \"correct answer goes here\"}]}'"
      ]
     },
     "execution_count": 48,
     "metadata": {},
     "output_type": "execute_result"
    }
   ],
   "source": [
    "json.dumps(Response_JSON)\n",
    "#to convert dictionary to json"
   ]
  },
  {
   "cell_type": "code",
   "execution_count": 49,
   "id": "9ae29139",
   "metadata": {},
   "outputs": [
    {
     "name": "stderr",
     "output_type": "stream",
     "text": [
      "Error in StdOutCallbackHandler.on_chain_start callback: AttributeError(\"'NoneType' object has no attribute 'get'\")\n",
      "Error in StdOutCallbackHandler.on_chain_start callback: AttributeError(\"'NoneType' object has no attribute 'get'\")\n"
     ]
    },
    {
     "name": "stdout",
     "output_type": "stream",
     "text": [
      "Prompt after formatting:\n",
      "\u001b[32;1m\u001b[1;3m\n",
      "Text:As a scientific endeavour, machine learning grew out of the quest for artificial intelligence (AI). In the early days of AI as an academic discipline, some researchers were interested in having machines learn from data. They attempted to approach the problem with various symbolic methods, as well as what were then termed \"neural networks\"; these were mostly perceptrons and other models that were later found to be reinventions of the generalised linear models of statistics.[20] Probabilistic reasoning was also employed, especially in automated medical diagnosis.[21]: 488 \n",
      "\n",
      "However, an increasing emphasis on the logical, knowledge-based approach caused a rift between AI and machine learning. Probabilistic systems were plagued by theoretical and practical problems of data acquisition and representation.[21]: 488  By 1980, expert systems had come to dominate AI, and statistics was out of favour.[22] Work on symbolic/knowledge-based learning did continue within AI, leading to inductive logic programming(ILP), but the more statistical line of research was now outside the field of AI proper, in pattern recognition and information retrieval.[21]: 708–710, 755  Neural networks research had been abandoned by AI and computer science around the same time. This line, too, was continued outside the AI/CS field, as \"connectionism\", by researchers from other disciplines including John Hopfield, David Rumelhart, and Geoffrey Hinton. Their main success came in the mid-1980s with the reinvention of backpropagation.[21]: 25 \n",
      "\n",
      "Machine learning (ML), reorganised and recognised as its own field, started to flourish in the 1990s. The field changed its goal from achieving artificial intelligence to tackling solvable problems of a practical nature. It shifted focus away from the symbolic approaches it had inherited from AI, and toward methods and models borrowed from statistics, fuzzy logic, and probability theory.[22]\n",
      "You are an expert mcq generator.Given the above text it is ur job to generate a quiz of 5 multiple choice questions for the machine learning students in formal tone. Make sure the questions are not repeated and check all the questions to be conforming the text as well. make sure to format the response like Response_JSON below to use it as a guide \n",
      "Ensure to make 5 mcq questions and not more than that.\n",
      "###Response_JSON\n",
      "{\"questions\": [{\"question_number\": 1, \"question\": \"Question 1 goes here.\", \"options\": {\"a\": \"Option 1\", \"b\": \"Option 2\", \"c\": \"Option 3\", \"d\": \"Option 4\"}, \"correct_answer\": \"correct answer goes here\"}, {\"question_number\": 2, \"question\": \"Question 2 goes here.\", \"options\": {\"a\": \"Option 1\", \"b\": \"Option 2\", \"c\": \"Option 3\", \"d\": \"Option 4\"}, \"correct_answer\": \"correct answer goes here\"}, {\"question_number\": 3, \"question\": \"Question 3 goes here.\", \"options\": {\"a\": \"Option 1\", \"b\": \"Option 2\", \"c\": \"Option 3\", \"d\": \"Option 4\"}, \"correct_answer\": \"correct answer goes here\"}, {\"question_number\": 4, \"question\": \"Question 4 goes here.\", \"options\": {\"a\": \"Option 1\", \"b\": \"Option 2\", \"c\": \"Option 3\", \"d\": \"Option 4\"}, \"correct_answer\": \"correct answer goes here\"}, {\"question_number\": 5, \"question\": \"Question 5 goes here.\", \"options\": {\"a\": \"Option 1\", \"b\": \"Option 2\", \"c\": \"Option 3\", \"d\": \"Option 4\"}, \"correct_answer\": \"correct answer goes here\"}]}\n",
      "\u001b[0m\n"
     ]
    },
    {
     "name": "stderr",
     "output_type": "stream",
     "text": [
      "Error in StdOutCallbackHandler.on_chain_start callback: AttributeError(\"'NoneType' object has no attribute 'get'\")\n"
     ]
    },
    {
     "name": "stdout",
     "output_type": "stream",
     "text": [
      "\n",
      "\u001b[1m> Finished chain.\u001b[0m\n",
      "Prompt after formatting:\n",
      "\u001b[32;1m\u001b[1;3m\n",
      "    You are an expert english grammarian and writer Given A MCQ quiz for machine learning students.You need to evaluatethe complexity of the question and give a complete analysis of the quiz only use at max 50 words for complexity if the quiz is not as per the cognitive and analytical abilities of the students update the quiz questions which needs to be changed and change tone such that it perfectly fits the students abilities \n",
      "    QQuiz Mcqs:###Response_JSON\n",
      "{\"questions\":[{\"question_number\":1,\"question\":\"Which methodological emphasis led to a rift between artificial intelligence (AI) and machine learning (ML) during the early development of the field?\",\"options\":{\"a\":\"The adoption of symbolic methods\",\"b\":\"The increased focus on logical, knowledge‑based approaches\",\"c\":\"The introduction of probabilistic reasoning\",\"d\":\"The expansion of neural network research\"},\"correct_answer\":\"b\"},{\"question_number\":2,\"question\":\"By the year 1980, which type of systems had become dominant within the AI discipline, contributing to the decline of statistical approaches?\",\"options\":{\"a\":\"Neural network systems\",\"b\":\"Probabilistic systems\",\"c\":\"Expert systems\",\"d\":\"Connectionist systems\"},\"correct_answer\":\"c\"},{\"question_number\":3,\"question\":\"Which trio of researchers is credited with advancing connectionist research outside of AI and computer science?\",\"options\":{\"a\":\"John Hopfield, David Rumelhart, and Geoffrey Hinton\",\"b\":\"John McCarthy, Marvin Minsky, and Allen Newell\",\"c\":\"Peter Norvig, Judea Pearl, and Alan Turing\",\"d\":\"Raymond Reiter, David D. Lewis, and Michael L. Littman\"},\"correct_answer\":\"a\"},{\"question_number\":4,\"question\":\"What algorithmic breakthrough is noted as the main success of connectionist research in the mid‑1980s?\",\"options\":{\"a\":\"Support Vector Machines\",\"b\":\"Genetic Algorithms\",\"c\":\"Backpropagation\",\"d\":\"Reinforcement Learning\"},\"correct_answer\":\"c\"},{\"question_number\":5,\"question\":\"In the 1990s, machine learning re‑oriented its objectives away from which inherited approach of AI?\",\"options\":{\"a\":\"Statistical methods\",\"b\":\"Probabilistic reasoning\",\"c\":\"Symbolic approaches\",\"d\":\"Fuzzy logic\"},\"correct_answer\":\"c\"}]}\n",
      "\n",
      "    Check from an expert english writer of the above quiz :\n",
      "    \u001b[0m\n",
      "\n",
      "\u001b[1m> Finished chain.\u001b[0m\n",
      "\n",
      "\u001b[1m> Finished chain.\u001b[0m\n"
     ]
    }
   ],
   "source": [
    "response=generate_evaluated_chain({\"text\":TEXT,\"number\":5,\"tone\":\"formal\",\"subject\":\"machine learning\",\"response_json\":json.dumps(Response_JSON)})"
   ]
  },
  {
   "cell_type": "code",
   "execution_count": 50,
   "id": "03695f9e",
   "metadata": {},
   "outputs": [
    {
     "data": {
      "text/plain": [
       "{'text': 'As a scientific endeavour, machine learning grew out of the quest for artificial intelligence (AI). In the early days of AI as an academic discipline, some researchers were interested in having machines learn from data. They attempted to approach the problem with various symbolic methods, as well as what were then termed \"neural networks\"; these were mostly perceptrons and other models that were later found to be reinventions of the generalised linear models of statistics.[20] Probabilistic reasoning was also employed, especially in automated medical diagnosis.[21]:\\u200a488\\u200a\\n\\nHowever, an increasing emphasis on the logical, knowledge-based approach caused a rift between AI and machine learning. Probabilistic systems were plagued by theoretical and practical problems of data acquisition and representation.[21]:\\u200a488\\u200a By 1980, expert systems had come to dominate AI, and statistics was out of favour.[22] Work on symbolic/knowledge-based learning did continue within AI, leading to inductive logic programming(ILP), but the more statistical line of research was now outside the field of AI proper, in pattern recognition and information retrieval.[21]:\\u200a708–710,\\u200a755\\u200a Neural networks research had been abandoned by AI and computer science around the same time. This line, too, was continued outside the AI/CS field, as \"connectionism\", by researchers from other disciplines including John Hopfield, David Rumelhart, and Geoffrey Hinton. Their main success came in the mid-1980s with the reinvention of backpropagation.[21]:\\u200a25\\u200a\\n\\nMachine learning (ML), reorganised and recognised as its own field, started to flourish in the 1990s. The field changed its goal from achieving artificial intelligence to tackling solvable problems of a practical nature. It shifted focus away from the symbolic approaches it had inherited from AI, and toward methods and models borrowed from statistics, fuzzy logic, and probability theory.[22]',\n",
       " 'number': 5,\n",
       " 'tone': 'formal',\n",
       " 'subject': 'machine learning',\n",
       " 'response_json': '{\"questions\": [{\"question_number\": 1, \"question\": \"Question 1 goes here.\", \"options\": {\"a\": \"Option 1\", \"b\": \"Option 2\", \"c\": \"Option 3\", \"d\": \"Option 4\"}, \"correct_answer\": \"correct answer goes here\"}, {\"question_number\": 2, \"question\": \"Question 2 goes here.\", \"options\": {\"a\": \"Option 1\", \"b\": \"Option 2\", \"c\": \"Option 3\", \"d\": \"Option 4\"}, \"correct_answer\": \"correct answer goes here\"}, {\"question_number\": 3, \"question\": \"Question 3 goes here.\", \"options\": {\"a\": \"Option 1\", \"b\": \"Option 2\", \"c\": \"Option 3\", \"d\": \"Option 4\"}, \"correct_answer\": \"correct answer goes here\"}, {\"question_number\": 4, \"question\": \"Question 4 goes here.\", \"options\": {\"a\": \"Option 1\", \"b\": \"Option 2\", \"c\": \"Option 3\", \"d\": \"Option 4\"}, \"correct_answer\": \"correct answer goes here\"}, {\"question_number\": 5, \"question\": \"Question 5 goes here.\", \"options\": {\"a\": \"Option 1\", \"b\": \"Option 2\", \"c\": \"Option 3\", \"d\": \"Option 4\"}, \"correct_answer\": \"correct answer goes here\"}]}',\n",
       " 'quiz': '###Response_JSON\\n{\"questions\":[{\"question_number\":1,\"question\":\"Which methodological emphasis led to a rift between artificial intelligence (AI) and machine learning (ML) during the early development of the field?\",\"options\":{\"a\":\"The adoption of symbolic methods\",\"b\":\"The increased focus on logical, knowledge‑based approaches\",\"c\":\"The introduction of probabilistic reasoning\",\"d\":\"The expansion of neural network research\"},\"correct_answer\":\"b\"},{\"question_number\":2,\"question\":\"By the year 1980, which type of systems had become dominant within the AI discipline, contributing to the decline of statistical approaches?\",\"options\":{\"a\":\"Neural network systems\",\"b\":\"Probabilistic systems\",\"c\":\"Expert systems\",\"d\":\"Connectionist systems\"},\"correct_answer\":\"c\"},{\"question_number\":3,\"question\":\"Which trio of researchers is credited with advancing connectionist research outside of AI and computer science?\",\"options\":{\"a\":\"John Hopfield, David Rumelhart, and Geoffrey Hinton\",\"b\":\"John McCarthy, Marvin Minsky, and Allen Newell\",\"c\":\"Peter Norvig, Judea Pearl, and Alan Turing\",\"d\":\"Raymond Reiter, David D. Lewis, and Michael L. Littman\"},\"correct_answer\":\"a\"},{\"question_number\":4,\"question\":\"What algorithmic breakthrough is noted as the main success of connectionist research in the mid‑1980s?\",\"options\":{\"a\":\"Support Vector Machines\",\"b\":\"Genetic Algorithms\",\"c\":\"Backpropagation\",\"d\":\"Reinforcement Learning\"},\"correct_answer\":\"c\"},{\"question_number\":5,\"question\":\"In the 1990s, machine learning re‑oriented its objectives away from which inherited approach of AI?\",\"options\":{\"a\":\"Statistical methods\",\"b\":\"Probabilistic reasoning\",\"c\":\"Symbolic approaches\",\"d\":\"Fuzzy logic\"},\"correct_answer\":\"c\"}]}',\n",
       " 'review': '**Complexity**: Moderate (requires historical context and terminology).  \\n\\n**Analysis**: The questions probe AI/ML history, terminology, and key figures. They are suitable for upper‑level undergraduates or graduate students who have covered foundational AI concepts. The tone is formal and concise, aligning well with students’ analytical abilities. No revision needed.'}"
      ]
     },
     "execution_count": 50,
     "metadata": {},
     "output_type": "execute_result"
    }
   ],
   "source": [
    "response"
   ]
  },
  {
   "cell_type": "code",
   "execution_count": 51,
   "id": "bce14984",
   "metadata": {},
   "outputs": [],
   "source": [
    "quiz=response.get(\"quiz\")"
   ]
  },
  {
   "cell_type": "code",
   "execution_count": 60,
   "id": "3a0225b7",
   "metadata": {},
   "outputs": [],
   "source": [
    "quiz_json_str = quiz.split('###Response_JSON')[-1].strip()\n",
    "try:\n",
    "    quiz_dict = json.loads(quiz_json_str)\n",
    "except Exception as e:\n",
    "    print(\"Quiz output was not valid JSON:\", e)\n",
    "    print(\"Raw output:\", quiz_json_str)"
   ]
  },
  {
   "cell_type": "code",
   "execution_count": 61,
   "id": "3cd73d40",
   "metadata": {},
   "outputs": [
    {
     "data": {
      "text/plain": [
       "{'questions': [{'question_number': 1,\n",
       "   'question': 'Which methodological emphasis led to a rift between artificial intelligence (AI) and machine learning (ML) during the early development of the field?',\n",
       "   'options': {'a': 'The adoption of symbolic methods',\n",
       "    'b': 'The increased focus on logical, knowledge‑based approaches',\n",
       "    'c': 'The introduction of probabilistic reasoning',\n",
       "    'd': 'The expansion of neural network research'},\n",
       "   'correct_answer': 'b'},\n",
       "  {'question_number': 2,\n",
       "   'question': 'By the year 1980, which type of systems had become dominant within the AI discipline, contributing to the decline of statistical approaches?',\n",
       "   'options': {'a': 'Neural network systems',\n",
       "    'b': 'Probabilistic systems',\n",
       "    'c': 'Expert systems',\n",
       "    'd': 'Connectionist systems'},\n",
       "   'correct_answer': 'c'},\n",
       "  {'question_number': 3,\n",
       "   'question': 'Which trio of researchers is credited with advancing connectionist research outside of AI and computer science?',\n",
       "   'options': {'a': 'John Hopfield, David Rumelhart, and Geoffrey Hinton',\n",
       "    'b': 'John McCarthy, Marvin Minsky, and Allen Newell',\n",
       "    'c': 'Peter Norvig, Judea Pearl, and Alan Turing',\n",
       "    'd': 'Raymond Reiter, David D. Lewis, and Michael L. Littman'},\n",
       "   'correct_answer': 'a'},\n",
       "  {'question_number': 4,\n",
       "   'question': 'What algorithmic breakthrough is noted as the main success of connectionist research in the mid‑1980s?',\n",
       "   'options': {'a': 'Support Vector Machines',\n",
       "    'b': 'Genetic Algorithms',\n",
       "    'c': 'Backpropagation',\n",
       "    'd': 'Reinforcement Learning'},\n",
       "   'correct_answer': 'c'},\n",
       "  {'question_number': 5,\n",
       "   'question': 'In the 1990s, machine learning re‑oriented its objectives away from which inherited approach of AI?',\n",
       "   'options': {'a': 'Statistical methods',\n",
       "    'b': 'Probabilistic reasoning',\n",
       "    'c': 'Symbolic approaches',\n",
       "    'd': 'Fuzzy logic'},\n",
       "   'correct_answer': 'c'}]}"
      ]
     },
     "execution_count": 61,
     "metadata": {},
     "output_type": "execute_result"
    }
   ],
   "source": [
    "quiz_dict"
   ]
  },
  {
   "cell_type": "code",
   "execution_count": 67,
   "id": "7f7716ef",
   "metadata": {},
   "outputs": [],
   "source": [
    "quiz_table_data = []\n",
    "for value in quiz_dict[\"questions\"]:\n",
    "    mcq = value[\"question\"]\n",
    "    options = \" | \".join(\n",
    "        [\n",
    "            f\"{option}: {option_value}\"\n",
    "            for option, option_value in value[\"options\"].items()\n",
    "            ]\n",
    "        )\n",
    "    correct = value[\"correct_answer\"]\n",
    "    quiz_table_data.append({\"MCQ\": mcq, \"Choices\": options, \"Correct\": correct})"
   ]
  },
  {
   "cell_type": "code",
   "execution_count": 69,
   "id": "45099c2b",
   "metadata": {},
   "outputs": [
    {
     "data": {
      "text/plain": [
       "[{'MCQ': 'Which methodological emphasis led to a rift between artificial intelligence (AI) and machine learning (ML) during the early development of the field?',\n",
       "  'Choices': 'a: The adoption of symbolic methods | b: The increased focus on logical, knowledge‑based approaches | c: The introduction of probabilistic reasoning | d: The expansion of neural network research',\n",
       "  'Correct': 'b'},\n",
       " {'MCQ': 'By the year 1980, which type of systems had become dominant within the AI discipline, contributing to the decline of statistical approaches?',\n",
       "  'Choices': 'a: Neural network systems | b: Probabilistic systems | c: Expert systems | d: Connectionist systems',\n",
       "  'Correct': 'c'},\n",
       " {'MCQ': 'Which trio of researchers is credited with advancing connectionist research outside of AI and computer science?',\n",
       "  'Choices': 'a: John Hopfield, David Rumelhart, and Geoffrey Hinton | b: John McCarthy, Marvin Minsky, and Allen Newell | c: Peter Norvig, Judea Pearl, and Alan Turing | d: Raymond Reiter, David D. Lewis, and Michael L. Littman',\n",
       "  'Correct': 'a'},\n",
       " {'MCQ': 'What algorithmic breakthrough is noted as the main success of connectionist research in the mid‑1980s?',\n",
       "  'Choices': 'a: Support Vector Machines | b: Genetic Algorithms | c: Backpropagation | d: Reinforcement Learning',\n",
       "  'Correct': 'c'},\n",
       " {'MCQ': 'In the 1990s, machine learning re‑oriented its objectives away from which inherited approach of AI?',\n",
       "  'Choices': 'a: Statistical methods | b: Probabilistic reasoning | c: Symbolic approaches | d: Fuzzy logic',\n",
       "  'Correct': 'c'}]"
      ]
     },
     "execution_count": 69,
     "metadata": {},
     "output_type": "execute_result"
    }
   ],
   "source": [
    "quiz_table_data"
   ]
  },
  {
   "cell_type": "code",
   "execution_count": 73,
   "id": "a5a11390",
   "metadata": {},
   "outputs": [],
   "source": [
    "finalquiz=pd.DataFrame(quiz_table_data)"
   ]
  },
  {
   "cell_type": "code",
   "execution_count": 74,
   "id": "b0200a36",
   "metadata": {},
   "outputs": [],
   "source": [
    "finalquiz.to_csv(\"ml_quiz.csv\",index=False)"
   ]
  },
  {
   "cell_type": "code",
   "execution_count": null,
   "id": "59b910ed",
   "metadata": {},
   "outputs": [],
   "source": []
  }
 ],
 "metadata": {
  "kernelspec": {
   "display_name": "env",
   "language": "python",
   "name": "python3"
  },
  "language_info": {
   "codemirror_mode": {
    "name": "ipython",
    "version": 3
   },
   "file_extension": ".py",
   "mimetype": "text/x-python",
   "name": "python",
   "nbconvert_exporter": "python",
   "pygments_lexer": "ipython3",
   "version": "3.8.20"
  }
 },
 "nbformat": 4,
 "nbformat_minor": 5
}
